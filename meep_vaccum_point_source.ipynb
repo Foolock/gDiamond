{
 "cells": [
  {
   "cell_type": "code",
   "execution_count": 1,
   "id": "0ee73a66-6093-48dd-8cf2-9011446909e5",
   "metadata": {},
   "outputs": [],
   "source": [
    "import meep as mp\n",
    "import numpy as np\n",
    "import matplotlib.pyplot as plt"
   ]
  },
  {
   "cell_type": "code",
   "execution_count": 2,
   "id": "ad357b16-12a7-4053-9572-cb1773f1598d",
   "metadata": {},
   "outputs": [],
   "source": [
    "# Define computational domain size\n",
    "Nx, Ny, Nz = 20, 20, 20  # Grid size\n",
    "resolution = 10  # Grid resolution (points per unit length)\n",
    "\n",
    "dx = 1/resolution # 0.1\n",
    "dt = 1/(2*resolution) # 0.05\n",
    "\n",
    "# Create a 3D computational cell\n",
    "cell_size = mp.Vector3(Nx, Ny, Nz)\n",
    "\n",
    "# Define a Gaussian point source at the center\n",
    "wavelength = 1.0  # Central wavelength\n",
    "freq = 1 / wavelength  # Frequency\n",
    "source = mp.Source(\n",
    "    src=mp.GaussianSource(frequency=freq, fwidth=0.2 * freq),\n",
    "    component=mp.Ex,  \n",
    "    center=mp.Vector3(0, 0, 0)  # Positioned at the center\n",
    ")"
   ]
  },
  {
   "cell_type": "code",
   "execution_count": 3,
   "id": "1f2b1d27-3d62-443a-9ef6-93430329650f",
   "metadata": {},
   "outputs": [],
   "source": [
    "# Set up the simulation with vacuum and a single source\n",
    "sim = mp.Simulation(\n",
    "    cell_size=cell_size,\n",
    "    resolution=resolution,\n",
    "    sources=[source],\n",
    "    boundary_layers=[mp.PML(1.0)],  # Absorbing boundaries to avoid reflections\n",
    ")"
   ]
  },
  {
   "cell_type": "code",
   "execution_count": null,
   "id": "cee13fa5-7420-4c66-959e-8cd5e524e522",
   "metadata": {},
   "outputs": [
    {
     "name": "stdout",
     "output_type": "stream",
     "text": [
      "-----------\n",
      "Initializing structure...\n",
      "time for choose_chunkdivision = 0.000181913 s\n",
      "Working in 3D dimensions.\n",
      "Computational cell is 20 x 20 x 20 with resolution 10\n",
      "time for set_epsilon = 6.49667 s\n",
      "-----------\n",
      "creating output file \"./eps-000000.00.h5\"...\n",
      "Meep progress: 0.05/20.0 = 0.2% done in 6.0s, 2390.1s to go\n",
      "on time step 1 (time=0.05), 5.51156 s/step\n",
      "Meep progress: 2.5/20.0 = 12.5% done in 10.1s, 70.5s to go\n",
      "on time step 50 (time=2.5), 0.0831532 s/step\n",
      "Meep progress: 4.95/20.0 = 24.8% done in 14.1s, 43.0s to go\n",
      "on time step 99 (time=4.95), 0.0831735 s/step\n",
      "Meep progress: 7.3500000000000005/20.0 = 36.8% done in 18.1s, 31.2s to go\n",
      "on time step 147 (time=7.35), 0.0834486 s/step\n"
     ]
    }
   ],
   "source": [
    "vals = []\n",
    "\n",
    "def get_slice(sim):\n",
    "    vals.append(sim.get_array(center=mp.Vector3(0, 0, 0), size=mp.Vector3(Nx, Ny, 0), component=mp.Ex))\n",
    "\n",
    "total_time = 20\n",
    "time_interval = 1\n",
    "\n",
    "sim.run(mp.at_beginning(mp.output_epsilon),\n",
    "        mp.at_every(time_interval, get_slice),\n",
    "        until=total_time)\n",
    "\n"
   ]
  },
  {
   "cell_type": "code",
   "execution_count": null,
   "id": "4db36c01-533f-46fc-9998-b77a69d658bb",
   "metadata": {},
   "outputs": [],
   "source": [
    "import matplotlib.pyplot as plt\n",
    "\n",
    "plt.figure()\n",
    "for i in range(total_time/time_interval):\n",
    "    plt.imshow(vals[i], cmap='RdBu', interpolation='spline36', vmin = -0.2, vmax = 0.2)\n",
    "    plt.colorbar()\n",
    "    plt.title(\"Ex field at z=Nz/2\")\n",
    "    plt.show()"
   ]
  },
  {
   "cell_type": "code",
   "execution_count": null,
   "id": "7dd77a4b-081f-4367-8b25-a973e121fed6",
   "metadata": {},
   "outputs": [],
   "source": [
    "len(vals)"
   ]
  },
  {
   "cell_type": "code",
   "execution_count": null,
   "id": "12483133-22a2-4d54-bdcc-af4d787dc8e2",
   "metadata": {},
   "outputs": [],
   "source": [
    "# Run the simulation\n",
    "# sim.run(until=20)"
   ]
  },
  {
   "cell_type": "code",
   "execution_count": null,
   "id": "64ee9474-e07a-4e35-b5d6-f351c8521146",
   "metadata": {},
   "outputs": [],
   "source": [
    "#eps_data = sim.get_array(center=mp.Vector3(0, 0, 0), size=mp.Vector3(Nx, Ny, 0), component=mp.Ex)\n",
    "#plt.imshow(eps_data.transpose(), cmap='RdBu', interpolation='spline36', vmin = -0.2, vmax = 0.2)\n",
    "#plt.colorbar()\n",
    "#plt.title(\"Ex field at z=Nz/2\")\n",
    "#plt.show()"
   ]
  },
  {
   "cell_type": "code",
   "execution_count": null,
   "id": "290c9c0a-8b65-4059-b4ac-e6a2af7d6cd5",
   "metadata": {},
   "outputs": [],
   "source": []
  }
 ],
 "metadata": {
  "kernelspec": {
   "display_name": "Python 3 (ipykernel)",
   "language": "python",
   "name": "python3"
  },
  "language_info": {
   "codemirror_mode": {
    "name": "ipython",
    "version": 3
   },
   "file_extension": ".py",
   "mimetype": "text/x-python",
   "name": "python",
   "nbconvert_exporter": "python",
   "pygments_lexer": "ipython3",
   "version": "3.10.12"
  }
 },
 "nbformat": 4,
 "nbformat_minor": 5
}
